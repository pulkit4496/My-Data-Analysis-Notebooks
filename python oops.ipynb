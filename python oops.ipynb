{
 "cells": [
  {
   "cell_type": "markdown",
   "metadata": {},
   "source": [
    "## A Python program to demonstrate inheritance"
   ]
  },
  {
   "cell_type": "code",
   "execution_count": 4,
   "metadata": {},
   "outputs": [
    {
     "name": "stdout",
     "output_type": "stream",
     "text": [
      "Geek1 False\n",
      "Geek2 True\n"
     ]
    }
   ],
   "source": [
    "# A Python program to demonstrate inheritance \n",
    "\n",
    "# Base or Super class. Note object in bracket. \n",
    "# (Generally, object is made ancestor of all classes) \n",
    "# In Python 3.x \"class Person\" is \n",
    "# equivalent to \"class Person(object)\" \n",
    "class Person(object): \n",
    "\t\n",
    "\t# Constructor \n",
    "\tdef __init__(self, name): \n",
    "\t\tself.name = name \n",
    "\n",
    "\t# To get name \n",
    "\tdef getName(self): \n",
    "\t\treturn self.name \n",
    "\n",
    "\t# To check if this person is employee \n",
    "\tdef isEmployee(self): \n",
    "\t\treturn False\n",
    "\n",
    "\n",
    "# Inherited or Sub class (Note Person in bracket) \n",
    "class Employee(Person): \n",
    "\n",
    "\t# Here we return true \n",
    "\tdef isEmployee(self): \n",
    "\t\treturn True\n",
    "\n",
    "# Driver code \n",
    "emp = Person(\"Geek1\") # An Object of Person \n",
    "print(emp.getName(), emp.isEmployee()) \n",
    "\n",
    "emp = Employee(\"Geek2\") # An Object of Employee \n",
    "print(emp.getName(), emp.isEmployee()) \n"
   ]
  },
  {
   "cell_type": "markdown",
   "metadata": {},
   "source": [
    "## Python code to demonstrate how parent constructors are called. \n"
   ]
  },
  {
   "cell_type": "code",
   "execution_count": 18,
   "metadata": {},
   "outputs": [
    {
     "name": "stdout",
     "output_type": "stream",
     "text": [
      "Pulkit\n",
      "110072\n"
     ]
    }
   ],
   "source": [
    "# Python code to demonstrate how parent constructors \n",
    "# are called. \n",
    "\n",
    "# parent class \n",
    "class Person( object ):\t \n",
    "\n",
    "        # __init__ is known as the constructor\n",
    "    def __init__(self, name, idnumber):\n",
    "        self.name = name\n",
    "        self.idnumber = idnumber \n",
    "    \n",
    "    def display(self): \n",
    "        print(self.name) \n",
    "        print(self.idnumber) \n",
    "\n",
    "# child class \n",
    "class Employee( Person ):\n",
    "    \n",
    "    def __init__(self, name, idnumber, salary, post): \n",
    "        self.salary = salary \n",
    "        self.post = post \n",
    "\n",
    "    # invoking the __init__ of the parent class \n",
    "        Person.__init__(self, name, idnumber) \n",
    "\n",
    "\n",
    "# creation of an object variable or an instance \n",
    "a = Person('Pulkit', 110072)\n",
    "e = Employee('Pulkit',110072,7500000,'Dvlpr')\n",
    "\n",
    "# calling a function of the class Person using its instance \n",
    "a.display() \n"
   ]
  },
  {
   "cell_type": "markdown",
   "metadata": {},
   "source": [
    "## multiple inheritance "
   ]
  },
  {
   "cell_type": "code",
   "execution_count": 20,
   "metadata": {},
   "outputs": [
    {
     "name": "stdout",
     "output_type": "stream",
     "text": [
      "Base1\n",
      "Base2\n",
      "Derived\n",
      "Geek1 Geek2\n"
     ]
    }
   ],
   "source": [
    "# Python example to show working of multiple \n",
    "# inheritance \n",
    "class Base1(object): \n",
    "\tdef __init__(self): \n",
    "\t\tself.str1 = \"Geek1\"\n",
    "\t\tprint(\"Base1\")\n",
    "\n",
    "class Base2(object): \n",
    "\tdef __init__(self): \n",
    "\t\tself.str2 = \"Geek2\"\t\t\n",
    "\t\tprint(\"Base2\")\n",
    "\n",
    "class Derived(Base1, Base2): \n",
    "\tdef __init__(self): \n",
    "\t\t\n",
    "\t\t# Calling constructors of Base1 \n",
    "\t\t# and Base2 classes \n",
    "\t\tBase1.__init__(self) \n",
    "\t\tBase2.__init__(self) \n",
    "\t\tprint(\"Derived\")\n",
    "\t\t\n",
    "\tdef printStrs(self): \n",
    "\t\tprint(self.str1, self.str2) \n",
    "\t\t\n",
    "\n",
    "ob = Derived() \n",
    "ob.printStrs() \n"
   ]
  },
  {
   "cell_type": "code",
   "execution_count": null,
   "metadata": {},
   "outputs": [],
   "source": []
  }
 ],
 "metadata": {
  "kernelspec": {
   "display_name": "Python 3",
   "language": "python",
   "name": "python3"
  },
  "language_info": {
   "codemirror_mode": {
    "name": "ipython",
    "version": 3
   },
   "file_extension": ".py",
   "mimetype": "text/x-python",
   "name": "python",
   "nbconvert_exporter": "python",
   "pygments_lexer": "ipython3",
   "version": "3.6.8"
  }
 },
 "nbformat": 4,
 "nbformat_minor": 2
}
