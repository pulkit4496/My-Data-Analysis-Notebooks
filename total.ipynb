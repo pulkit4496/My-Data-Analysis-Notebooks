{
 "cells": [
  {
   "cell_type": "code",
   "execution_count": 3,
   "metadata": {},
   "outputs": [],
   "source": [
    "import pandas as pd\n",
    "import numpy as np\n",
    "#import humanfriendly"
   ]
  },
  {
   "cell_type": "code",
   "execution_count": 4,
   "metadata": {},
   "outputs": [],
   "source": [
    "rtc =pd.read_csv('RTC.csv')"
   ]
  },
  {
   "cell_type": "code",
   "execution_count": 5,
   "metadata": {},
   "outputs": [],
   "source": [
    "rtc1 = pd.DataFrame(rtc)\n",
    "#print(rtc1.dropna())\n",
    "rtc1 = rtc1[pd.notnull(rtc1['URL'])]\n",
    "#print(rtc1)"
   ]
  },
  {
   "cell_type": "code",
   "execution_count": 6,
   "metadata": {},
   "outputs": [
    {
     "name": "stdout",
     "output_type": "stream",
     "text": [
      "1550143949993\n"
     ]
    }
   ],
   "source": [
    "first= rtc1.iloc[0][0]\n",
    "print(first)"
   ]
  },
  {
   "cell_type": "code",
   "execution_count": 7,
   "metadata": {},
   "outputs": [
    {
     "name": "stdout",
     "output_type": "stream",
     "text": [
      "1550144345493\n",
      "36\n"
     ]
    }
   ],
   "source": [
    "last= rtc1.iloc[-1,0]\n",
    "ad = rtc1.iloc[-1,1]\n",
    "print(last)\n",
    "print(ad)\n",
    "#print(rtc1.iloc[-1,12])"
   ]
  },
  {
   "cell_type": "code",
   "execution_count": 8,
   "metadata": {
    "scrolled": true
   },
   "outputs": [
    {
     "name": "stdout",
     "output_type": "stream",
     "text": [
      "395536\n"
     ]
    }
   ],
   "source": [
    "ex_time = (last-first)+ ad\n",
    "print(ex_time)"
   ]
  },
  {
   "cell_type": "code",
   "execution_count": 9,
   "metadata": {},
   "outputs": [
    {
     "name": "stdout",
     "output_type": "stream",
     "text": [
      "Total execution time in mins = 6.59\n",
      "['Total execution time in mins = 6.59']\n"
     ]
    }
   ],
   "source": [
    "ex_time=(ex_time/1000)/60\n",
    "ex_time = str(np.round(ex_time, 2))\n",
    "ex = \"Total execution time in mins = \" + ex_time\n",
    "print(ex)\n",
    "list1 =[]\n",
    "list1.append(ex)\n",
    "listt = list1\n",
    "print(listt)\n",
    "#t = humanfriendly.format_timespan(337)\n",
    "#print(t)"
   ]
  },
  {
   "cell_type": "code",
   "execution_count": null,
   "metadata": {},
   "outputs": [],
   "source": []
  },
  {
   "cell_type": "code",
   "execution_count": 10,
   "metadata": {},
   "outputs": [
    {
     "name": "stdout",
     "output_type": "stream",
     "text": [
      "Total Recieved bytes in Mb = 24.05\n"
     ]
    }
   ],
   "source": [
    "by = (((rtc1.iloc[:,9]).sum())/1024)/1024\n",
    "by = str(np.round(by, 2))\n",
    "\n",
    "siz = \"Total Recieved bytes in Mb = \" + by\n",
    "print(siz)"
   ]
  },
  {
   "cell_type": "code",
   "execution_count": 11,
   "metadata": {},
   "outputs": [
    {
     "name": "stdout",
     "output_type": "stream",
     "text": [
      "['Total execution time in mins = 6.59', 'Total Recieved bytes in Mb = 24.05']\n"
     ]
    }
   ],
   "source": [
    "list1.append(siz)\n",
    "print(list1)"
   ]
  },
  {
   "cell_type": "code",
   "execution_count": 12,
   "metadata": {},
   "outputs": [],
   "source": [
    "df = pd.DataFrame(list1, columns=[\"colummn\"])\n",
    "df.to_csv(\"total_output.csv\", sep=',')"
   ]
  },
  {
   "cell_type": "code",
   "execution_count": 13,
   "metadata": {},
   "outputs": [],
   "source": [
    "#list2 = [2,3,56]\n",
    "#df = pd.DataFrame(list2, columns=[\"colummn\"])\n",
    "#with open('output.csv', mode = 'a') as f:\n",
    "#    df.to_csv(f, header=False)"
   ]
  },
  {
   "cell_type": "code",
   "execution_count": null,
   "metadata": {},
   "outputs": [],
   "source": []
  },
  {
   "cell_type": "code",
   "execution_count": 22,
   "metadata": {},
   "outputs": [
    {
     "name": "stdout",
     "output_type": "stream",
     "text": [
      "<class 'pandas.core.series.Series'>\n"
     ]
    }
   ],
   "source": [
    "a= rtc1.iloc[:,5]\n",
    "thr = a.unique()\n",
    "#print((rtc1.iloc[:,5].unique()))\n",
    "#b=rtc1.groupby(a)\n",
    "#c=b.get_group(\"Thread Group 1-2\")\n",
    "#print(c)\n",
    "#print(rtc1.get_group(\"Thread Group 1-2\"))"
   ]
  },
  {
   "cell_type": "code",
   "execution_count": 15,
   "metadata": {},
   "outputs": [],
   "source": [
    "\n",
    "length = len(thr)\n",
    "tot_time = 0\n",
    "tot_size = 0\n"
   ]
  },
  {
   "cell_type": "code",
   "execution_count": 16,
   "metadata": {
    "scrolled": true
   },
   "outputs": [],
   "source": [
    "list2 = []\n",
    "for x in thr :\n",
    "    b=rtc1.groupby(a)\n",
    "    c=b.get_group(x)\n",
    "    list2.append(x)\n",
    "    \n",
    "    #print(\"xxxxxxxxxxxxxxxxxxxxxxxxxx\")\n",
    "    #print(c)\n",
    "    #print(\"xxxxxxxxxxxxxxxxxxxxxxxxxx\")\n",
    "    first= c.iloc[0][0]\n",
    "    last= c.iloc[-1,0]\n",
    "    ad = c.iloc[-1,1]\n",
    "    #print(first,last,ad)\n",
    "    ex_time = (last-first)+ ad\n",
    "    ex_time=(ex_time/1000)/60\n",
    "    ex_time = str(np.round(ex_time, 2))\n",
    "    ex = \"execution time in mins = \" + ex_time\n",
    "    list2.append(ex)\n",
    "    tot_time += float(ex_time)\n",
    "    \n",
    "    by = (((c.iloc[:,9]).sum())/1024)/1024\n",
    "    by = str(np.round(by, 2))\n",
    "    siz = \"Recieved bytes in Mb = \" + by\n",
    "    list2.append(siz)\n",
    "    tot_size += float(by)\n",
    "    \n",
    "    df = pd.DataFrame(list2, columns=[\"colummn\"])\n",
    "    df.to_csv(\"Individual_threads.csv\", sep=',')\n",
    "    #print(\"-------------------------\")\n",
    "    #print(list2)\n",
    "    #print(\"-------------------------\")\n",
    "    "
   ]
  },
  {
   "cell_type": "code",
   "execution_count": 17,
   "metadata": {},
   "outputs": [],
   "source": [
    "tot = \"total time = \" + str(tot_time)\n",
    "list5 = []\n",
    "list5.append(tot)\n",
    "tot = \"total size = \" + str(tot_size)\n",
    "list5.append(tot)\n",
    "tot_time = tot_time/length\n",
    "tot_time = str(np.round(tot_time, 2))\n",
    "tot = \"total time per user = \" + str(tot_time)\n",
    "list5.append(tot)\n",
    "tot_size = tot_size/length\n",
    "tot_size = str(np.round(tot_size, 2))\n",
    "tot = \"total size per user = \" + str(tot_size)\n",
    "list5.append(tot)\n",
    "\n",
    "with open('Individual_threads.csv', 'a') as f:\n",
    "    #df.to_csv(f, header=False)\n",
    "    df = pd.DataFrame(list5)\n",
    "    df.to_csv(f, sep=',')\n",
    "    \n",
    "with open('Individual_threads.csv', 'a') as f:\n",
    "    #df.to_csv(f, header=False)\n",
    "    df = pd.DataFrame(list5)\n",
    "    df.to_csv(f, sep=',')\n",
    "    "
   ]
  },
  {
   "cell_type": "code",
   "execution_count": 18,
   "metadata": {},
   "outputs": [],
   "source": [
    "rtc2 = pd.DataFrame(rtc)\n",
    "#rtc2 = rtc2[pd.notnull(rtc1['URL'])]\n",
    "#null_columns=rtc2.columns[rtc2.isnull().any(axis=1)]\n",
    "rtc2 = rtc2[rtc2['URL'].isnull()]\n",
    "#print(rtc2)\n",
    "a= rtc2.iloc[:,5]\n",
    "thr = a.unique()\n",
    "\n",
    "for y in thr :\n",
    "    list3 =  []\n",
    "    b=rtc2.groupby(a)\n",
    "    c=b.get_group(y)\n",
    "    list3.append(y)\n",
    "    #print(c.head())\n",
    "    \n",
    "    #columns = c['label']\n",
    "    #columns = pd.DataFrame(columns)\n",
    "    #print(type(columns))\n",
    "    #print(rtc2.columns.str.contains(\"Result\")==True)\n",
    "    #c= rtc2[rtc2.columns.str.contains(\"3dspace\")]\n",
    "    #c = ~columns.str.contains('3dspace')\n",
    "    #c = pd.DataFrame(c)\n",
    "    #d= rtc2[columns].c\n",
    "    d = c[~c['label'].str.contains(\"3dspace\")]\n",
    "    #print(\"XXXXXXXXXXXXXXXX\")\n",
    "    d.reset_index(drop = True , inplace = True)\n",
    "    d = d[[\"timeStamp\",\"label\",\"elapsed\",'bytes']]\n",
    "    #print(d)\n",
    "    #e = d.iloc[:,2]\n",
    "    #list3.append(e)\n",
    "    #e= d[['elapsed']]\n",
    "    #list3.append(e)\n",
    "    s = \"--------------------------------------\"\n",
    "    with open('Controllers.csv', 'a') as f:\n",
    "        #df.to_csv(f, header=False)\n",
    "        df = pd.DataFrame(list3)\n",
    "        df.to_csv(f, sep=',')\n",
    "        d.to_csv(f, sep=',')\n",
    "        \n",
    "    #print(list3)\n",
    "    #print(\"----------------------------------------------\")"
   ]
  },
  {
   "cell_type": "code",
   "execution_count": 19,
   "metadata": {},
   "outputs": [
    {
     "name": "stdout",
     "output_type": "stream",
     "text": [
      "              Threads Execution Time in minutes Received Size in Mb\n",
      "0    Thread Group 1-1                      1.48                1.53\n",
      "1    Thread Group 1-2                      1.19                1.52\n",
      "2    Thread Group 1-3                      0.88                1.53\n",
      "3    Thread Group 1-4                      0.67                1.52\n",
      "4    Thread Group 1-5                      1.34                1.51\n",
      "5    Thread Group 1-6                      1.98                1.51\n",
      "6    Thread Group 1-7                      1.57                1.42\n",
      "7    Thread Group 1-8                      1.67                1.46\n",
      "8    Thread Group 1-9                      1.57                1.48\n",
      "9   Thread Group 1-10                      1.73                1.44\n",
      "10  Thread Group 1-11                      1.22                1.53\n",
      "11  Thread Group 1-12                      1.17                1.52\n",
      "12  Thread Group 1-13                       1.0                1.53\n",
      "13  Thread Group 1-14                      2.22                1.52\n",
      "14  Thread Group 1-15                      1.88                1.51\n",
      "15  Thread Group 1-16                      1.59                1.51\n"
     ]
    }
   ],
   "source": [
    "rtc =pd.read_csv('RTC.csv')\n",
    "rtc1 = pd.DataFrame(rtc)\n",
    "rtc1 = rtc1[pd.notnull(rtc1['URL'])]\n",
    "a= rtc1.iloc[:,5]\n",
    "thr = list(a.unique())\n",
    "list2 = list(thr)\n",
    "thr = list2\n",
    "list1 = []\n",
    "list5 = []\n",
    "list6 = []\n",
    "data = {'Threads':list2,\n",
    "       'Execution Time in minutes':list5,\n",
    "       'Received Size in Mb':list6}\n",
    "for x in thr :\n",
    "    b=rtc1.groupby(a)\n",
    "    c=b.get_group(x)\n",
    "    \n",
    "    list1.append(x)\n",
    "    first= c.iloc[0][0]\n",
    "    last= c.iloc[-1,0]\n",
    "    ad = c.iloc[-1,1]\n",
    "    #print(first,last,ad,'****************')\n",
    "    #print(c['elapsed'].tail() , '=-=-=-=---=-=-=-=-=',c['timeStamp'].tail())\n",
    "    \n",
    "    ex_time = (last-first)+ ad\n",
    "    ex_time=(ex_time/1000)/60\n",
    "    ex_time = str(np.round(ex_time, 2))\n",
    "    \n",
    "    list5.append(ex_time)\n",
    "    \n",
    "    \n",
    "\n",
    "    \n",
    "    by = ((c.iloc[:,9].sum())/1024)/1024\n",
    "    #print(c['bytes'].head())\n",
    "    #print('xxxxxxxxxxx',c['bytes'].sum())\n",
    "    by = str(np.round(by, 2))\n",
    "    \n",
    "    list6.append(by)\n",
    "    #print(list6,'yyyyyyyyyyyyyyyyy')\n",
    "    \n",
    "    #print((c.iloc[:,9]).sum())\n",
    "    \n",
    "    #print('==========================xxxxxxxxxxxxxxxxxxxxxxxxxxxxxxxxxx=====================================')\n",
    "    \n",
    "    \n",
    "    \n",
    "    \n",
    "data = {'Threads':list2,\n",
    "       'Execution Time in minutes':list5,\n",
    "       'Received Size in Mb':list6,\n",
    "       }    \n",
    "df = pd.DataFrame(data)\n",
    "df.to_excel(\"Individual_threads.xlsx\",sheet_name='200users')\n",
    "print(df)\n"
   ]
  }
 ],
 "metadata": {
  "kernelspec": {
   "display_name": "Python 3",
   "language": "python",
   "name": "python3"
  },
  "language_info": {
   "codemirror_mode": {
    "name": "ipython",
    "version": 3
   },
   "file_extension": ".py",
   "mimetype": "text/x-python",
   "name": "python",
   "nbconvert_exporter": "python",
   "pygments_lexer": "ipython3",
   "version": "3.6.8"
  }
 },
 "nbformat": 4,
 "nbformat_minor": 2
}
